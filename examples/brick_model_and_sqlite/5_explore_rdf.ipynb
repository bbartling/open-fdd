{
 "cells": [
  {
   "cell_type": "markdown",
   "metadata": {},
   "source": [
    "Load the RDF Graph"
   ]
  },
  {
   "cell_type": "code",
   "execution_count": 1,
   "metadata": {},
   "outputs": [
    {
     "name": "stdout",
     "output_type": "stream",
     "text": [
      "Graph loaded with 91 triples.\n"
     ]
    }
   ],
   "source": [
    "from rdflib import Graph\n",
    "\n",
    "# Load the RDF graph from the .ttl file\n",
    "ttl_file = \"brick_model_with_timeseries.ttl\"  # Replace with your .ttl file\n",
    "g = Graph()\n",
    "g.parse(ttl_file, format=\"turtle\")\n",
    "\n",
    "print(f\"Graph loaded with {len(g)} triples.\")"
   ]
  },
  {
   "cell_type": "markdown",
   "metadata": {},
   "source": [
    "Query for All AHUs"
   ]
  },
  {
   "cell_type": "code",
   "execution_count": 2,
   "metadata": {},
   "outputs": [
    {
     "name": "stdout",
     "output_type": "stream",
     "text": [
      "List of AHUs in the RDF graph:\n"
     ]
    }
   ],
   "source": [
    "from rdflib.namespace import RDF, RDFS, OWL\n",
    "from rdflib import Namespace\n",
    "\n",
    "# Define the BRICK namespace\n",
    "BRICK = Namespace(\"https://brickschema.org/schema/Brick#\")\n",
    "\n",
    "# Query to list all AHUs\n",
    "query = \"\"\"\n",
    "PREFIX brick: <https://brickschema.org/schema/Brick#>\n",
    "\n",
    "SELECT ?ahu WHERE {\n",
    "    ?ahu rdf:type brick:AHU .\n",
    "}\n",
    "\"\"\"\n",
    "\n",
    "ahus = g.query(query)\n",
    "\n",
    "print(\"List of AHUs in the RDF graph:\")\n",
    "for row in ahus:\n",
    "    print(row.ahu)"
   ]
  },
  {
   "cell_type": "markdown",
   "metadata": {},
   "source": [
    "Query for Points Associated with a Specific AHU"
   ]
  },
  {
   "cell_type": "code",
   "execution_count": 3,
   "metadata": {},
   "outputs": [
    {
     "name": "stdout",
     "output_type": "stream",
     "text": [
      "Points associated with AHU1:\n"
     ]
    }
   ],
   "source": [
    "# Query to list all points associated with a specific AHU\n",
    "ahu_name = \"AHU1\"  # Replace with the AHU you want to explore\n",
    "\n",
    "query = f\"\"\"\n",
    "PREFIX brick: <https://brickschema.org/schema/Brick#>\n",
    "\n",
    "SELECT ?point ?point_type WHERE {{\n",
    "    ?ahu rdf:type brick:AHU .\n",
    "    ?ahu brick:hasPoint ?point .\n",
    "    ?point rdf:type ?point_type .\n",
    "    FILTER (STR(?ahu) = \"http://example.org/{ahu_name}\")\n",
    "}}\n",
    "\"\"\"\n",
    "\n",
    "points = g.query(query)\n",
    "\n",
    "print(f\"Points associated with {ahu_name}:\")\n",
    "for row in points:\n",
    "    print(f\"Point: {row.point}, Type: {row.point_type}\")"
   ]
  },
  {
   "cell_type": "markdown",
   "metadata": {},
   "source": [
    "Query for Specific Point Types (e.g., Sensors) Across All AHUs"
   ]
  },
  {
   "cell_type": "code",
   "execution_count": 4,
   "metadata": {},
   "outputs": [
    {
     "name": "stdout",
     "output_type": "stream",
     "text": [
      "List of brick:Sensor across all AHUs:\n"
     ]
    }
   ],
   "source": [
    "# Query to list all specific point types (e.g., sensors) across all AHUs\n",
    "point_type = \"brick:Sensor\"  # Replace with the point type you are interested in\n",
    "\n",
    "query = f\"\"\"\n",
    "PREFIX brick: <https://brickschema.org/schema/Brick#>\n",
    "\n",
    "SELECT ?ahu ?point WHERE {{\n",
    "    ?ahu rdf:type brick:AHU .\n",
    "    ?ahu brick:hasPoint ?point .\n",
    "    ?point rdf:type {point_type} .\n",
    "}}\n",
    "\"\"\"\n",
    "\n",
    "sensors = g.query(query)\n",
    "\n",
    "print(f\"List of {point_type} across all AHUs:\")\n",
    "for row in sensors:\n",
    "    print(f\"AHU: {row.ahu}, Point: {row.point}\")"
   ]
  },
  {
   "cell_type": "markdown",
   "metadata": {},
   "source": [
    "Explore RDF Triples for a Specific AHU"
   ]
  },
  {
   "cell_type": "code",
   "execution_count": 5,
   "metadata": {},
   "outputs": [
    {
     "name": "stdout",
     "output_type": "stream",
     "text": [
      "RDF triples for AHU1:\n",
      "Subject: http://example.org/AHU1, Predicate: http://www.w3.org/1999/02/22-rdf-syntax-ns#type, Object: https://brickschema.org/schema/Brick#Air_Handling_Unit\n",
      "Subject: http://example.org/AHU1, Predicate: https://brickschema.org/schema/Brick#hasPoint, Object: http://example.org/AHU1_SaStatic_value\n",
      "Subject: http://example.org/AHU1, Predicate: https://brickschema.org/schema/Brick#hasPoint, Object: http://example.org/AHU1_SaFanSpeedAO_value\n",
      "Subject: http://example.org/AHU1, Predicate: https://brickschema.org/schema/Brick#hasPoint, Object: http://example.org/AHU1_Eff_StaticSPt\n"
     ]
    }
   ],
   "source": [
    "# Query to explore RDF triples associated with a specific AHU\n",
    "ahu_name = \"AHU1\"  # Replace with the AHU you want to explore\n",
    "\n",
    "query = f\"\"\"\n",
    "PREFIX brick: <https://brickschema.org/schema/Brick#>\n",
    "\n",
    "SELECT ?subject ?predicate ?object WHERE {{\n",
    "    ?subject ?predicate ?object .\n",
    "    FILTER (STR(?subject) = \"http://example.org/{ahu_name}\")\n",
    "}}\n",
    "\"\"\"\n",
    "\n",
    "triples = g.query(query)\n",
    "\n",
    "print(f\"RDF triples for {ahu_name}:\")\n",
    "for row in triples:\n",
    "    print(f\"Subject: {row.subject}, Predicate: {row.predicate}, Object: {row.object}\")"
   ]
  },
  {
   "cell_type": "markdown",
   "metadata": {},
   "source": [
    "List All BRICK Classes in the RDF Graph"
   ]
  },
  {
   "cell_type": "code",
   "execution_count": 7,
   "metadata": {},
   "outputs": [
    {
     "name": "stdout",
     "output_type": "stream",
     "text": [
      "List of BRICK classes in the RDF graph:\n",
      "https://brickschema.org/schema/Brick#Air_Handling_Unit\n",
      "https://brickschema.org/schema/Brick#Supply_Air_Static_Pressure_Setpoint\n",
      "https://brickschema.org/schema/Brick#Supply_Fan_VFD_Speed_Sensor\n",
      "https://brickschema.org/schema/Brick#Supply_Air_Static_Pressure_Sensor\n"
     ]
    }
   ],
   "source": [
    "# Query to list all BRICK classes defined in the RDF graph\n",
    "query = \"\"\"\n",
    "PREFIX brick: <https://brickschema.org/schema/Brick#>\n",
    "\n",
    "SELECT DISTINCT ?class WHERE {\n",
    "    ?s rdf:type ?class .\n",
    "    FILTER (STRSTARTS(STR(?class), \"https://brickschema.org/schema/Brick#\"))\n",
    "}\n",
    "\"\"\"\n",
    "\n",
    "classes = g.query(query)\n",
    "\n",
    "print(\"List of BRICK classes in the RDF graph:\")\n",
    "for row in classes:\n",
    "    print(\n",
    "        row[\"class\"]\n",
    "    )  # Use dictionary-style access to avoid the reserved keyword issue"
   ]
  },
  {
   "cell_type": "markdown",
   "metadata": {},
   "source": [
    "Close the Graph (Optional)"
   ]
  },
  {
   "cell_type": "code",
   "execution_count": 8,
   "metadata": {},
   "outputs": [],
   "source": [
    "# Optional: clear the graph from memory\n",
    "g.close()"
   ]
  }
 ],
 "metadata": {
  "kernelspec": {
   "display_name": "Python 3",
   "language": "python",
   "name": "python3"
  },
  "language_info": {
   "codemirror_mode": {
    "name": "ipython",
    "version": 3
   },
   "file_extension": ".py",
   "mimetype": "text/x-python",
   "name": "python",
   "nbconvert_exporter": "python",
   "pygments_lexer": "ipython3",
   "version": "3.12.3"
  }
 },
 "nbformat": 4,
 "nbformat_minor": 2
}
