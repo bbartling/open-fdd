{
 "cells": [
  {
   "cell_type": "markdown",
   "metadata": {},
   "source": [
    "List All Tables in the Database"
   ]
  },
  {
   "cell_type": "code",
   "execution_count": 1,
   "metadata": {},
   "outputs": [
    {
     "name": "stdout",
     "output_type": "stream",
     "text": [
      "Tables in the database:\n",
      "TimeseriesData\n",
      "sqlite_sequence\n",
      "TimeseriesReference\n",
      "DatabaseStorage\n"
     ]
    }
   ],
   "source": [
    "import sqlite3\n",
    "\n",
    "# Connect to the database\n",
    "conn = sqlite3.connect(\"brick_timeseries.db\")\n",
    "\n",
    "# List all tables\n",
    "tables = conn.execute(\"SELECT name FROM sqlite_master WHERE type='table';\").fetchall()\n",
    "print(\"Tables in the database:\")\n",
    "for table in tables:\n",
    "    print(table[0])"
   ]
  },
  {
   "cell_type": "markdown",
   "metadata": {},
   "source": [
    "Show the Schema of a Specific Table"
   ]
  },
  {
   "cell_type": "code",
   "execution_count": 2,
   "metadata": {},
   "outputs": [
    {
     "name": "stdout",
     "output_type": "stream",
     "text": [
      "Schema of the table 'TimeseriesData':\n",
      "Column: id, Type: INTEGER, Not Null: 0, Primary Key: 1\n",
      "Column: sensor_name, Type: TEXT, Not Null: 1, Primary Key: 0\n",
      "Column: timestamp, Type: TEXT, Not Null: 1, Primary Key: 0\n",
      "Column: value, Type: REAL, Not Null: 1, Primary Key: 0\n"
     ]
    }
   ],
   "source": [
    "# Define the table name you're interested in\n",
    "table_name = \"TimeseriesData\"  # Replace with the table name you want to explore\n",
    "\n",
    "# Show the schema of the table\n",
    "schema = conn.execute(f\"PRAGMA table_info({table_name});\").fetchall()\n",
    "print(f\"Schema of the table '{table_name}':\")\n",
    "for column in schema:\n",
    "    print(\n",
    "        f\"Column: {column[1]}, Type: {column[2]}, Not Null: {column[3]}, Primary Key: {column[5]}\"\n",
    "    )"
   ]
  },
  {
   "cell_type": "markdown",
   "metadata": {},
   "source": [
    "View the First Few Rows of a Table"
   ]
  },
  {
   "cell_type": "code",
   "execution_count": 3,
   "metadata": {},
   "outputs": [
    {
     "name": "stdout",
     "output_type": "stream",
     "text": [
      "First 10 rows of the table 'TimeseriesData':\n",
      "(1, 'AHU1_SaFanSpeedAO_value', '2024-07-01 00:00:00', 35.0)\n",
      "(2, 'AHU1_SaFanSpeedAO_value', '2024-07-01 00:04:59', 35.0)\n",
      "(3, 'AHU1_SaFanSpeedAO_value', '2024-07-01 00:05:00', 35.0)\n",
      "(4, 'AHU1_SaFanSpeedAO_value', '2024-07-01 00:09:58', 35.0)\n",
      "(5, 'AHU1_SaFanSpeedAO_value', '2024-07-01 00:10:00', 35.0)\n",
      "(6, 'AHU1_SaFanSpeedAO_value', '2024-07-01 00:14:57', 35.0)\n",
      "(7, 'AHU1_SaFanSpeedAO_value', '2024-07-01 00:15:00', 35.0)\n",
      "(8, 'AHU1_SaFanSpeedAO_value', '2024-07-01 00:19:56', 35.0)\n",
      "(9, 'AHU1_SaFanSpeedAO_value', '2024-07-01 00:20:00', 35.0)\n",
      "(10, 'AHU1_SaFanSpeedAO_value', '2024-07-01 00:24:55', 35.0)\n"
     ]
    }
   ],
   "source": [
    "table_name = \"TimeseriesData\"\n",
    "data = conn.execute(f\"SELECT * FROM {table_name} LIMIT 10;\").fetchall()\n",
    "print(f\"First 10 rows of the table '{table_name}':\")\n",
    "for row in data:\n",
    "    print(row)"
   ]
  },
  {
   "cell_type": "markdown",
   "metadata": {},
   "source": [
    "Count the Number of Records in a Table"
   ]
  },
  {
   "cell_type": "code",
   "execution_count": 4,
   "metadata": {},
   "outputs": [
    {
     "name": "stdout",
     "output_type": "stream",
     "text": [
      "Foreign keys in the table 'TimeseriesData':\n"
     ]
    }
   ],
   "source": [
    "table_name = \"TimeseriesData\"\n",
    "foreign_keys = conn.execute(f\"PRAGMA foreign_key_list({table_name});\").fetchall()\n",
    "print(f\"Foreign keys in the table '{table_name}':\")\n",
    "for fk in foreign_keys:\n",
    "    print(f\"From column '{fk[3]}' to table '{fk[2]}' and column '{fk[4]}'\")"
   ]
  },
  {
   "cell_type": "markdown",
   "metadata": {},
   "source": [
    "Query for the Existing Schema"
   ]
  },
  {
   "cell_type": "code",
   "execution_count": 5,
   "metadata": {},
   "outputs": [
    {
     "name": "stdout",
     "output_type": "stream",
     "text": [
      "Timeseries references:\n",
      "Timeseries ID: AHU1_SaFanSpeedAO_value, Stored At: ('AHU1_SaFanSpeedAO_value', 'SQLite Timeseries Storage')\n",
      "Timeseries ID: AHU1_SaStatic_value, Stored At: ('AHU1_SaStatic_value', 'SQLite Timeseries Storage')\n",
      "Timeseries ID: AHU1_Eff_StaticSPt, Stored At: ('AHU1_Eff_StaticSPt', 'SQLite Timeseries Storage')\n",
      "Timeseries ID: AHU4_SaFanSpeedAO_value, Stored At: ('AHU4_SaFanSpeedAO_value', 'SQLite Timeseries Storage')\n",
      "Timeseries ID: AHU4_SaStatic_value, Stored At: ('AHU4_SaStatic_value', 'SQLite Timeseries Storage')\n",
      "Timeseries ID: AHU4_StaticSPt, Stored At: ('AHU4_StaticSPt', 'SQLite Timeseries Storage')\n",
      "Timeseries ID: AHU3_SaFanSpeedAO_value, Stored At: ('AHU3_SaFanSpeedAO_value', 'SQLite Timeseries Storage')\n",
      "Timeseries ID: AHU3_SaStatic_value, Stored At: ('AHU3_SaStatic_value', 'SQLite Timeseries Storage')\n",
      "Timeseries ID: AHU3_StaticSPt, Stored At: ('AHU3_StaticSPt', 'SQLite Timeseries Storage')\n",
      "Timeseries ID: AHU2_SaFanSpeedAO_value, Stored At: ('AHU2_SaFanSpeedAO_value', 'SQLite Timeseries Storage')\n",
      "Timeseries ID: AHU2_SaStatic_value, Stored At: ('AHU2_SaStatic_value', 'SQLite Timeseries Storage')\n",
      "Timeseries ID: AHU2_StaticSPt, Stored At: ('AHU2_StaticSPt', 'SQLite Timeseries Storage')\n"
     ]
    }
   ],
   "source": [
    "query = \"\"\"\n",
    "SELECT timeseries_id, stored_at \n",
    "FROM TimeseriesReference;\n",
    "\"\"\"\n",
    "\n",
    "references = conn.execute(query).fetchall()\n",
    "print(\"Timeseries references:\")\n",
    "for ref in references:\n",
    "    print(f\"Timeseries ID: {ref[0]}, Stored At: {ref}\")"
   ]
  },
  {
   "cell_type": "code",
   "execution_count": 6,
   "metadata": {},
   "outputs": [
    {
     "name": "stdout",
     "output_type": "stream",
     "text": [
      "Data for sensor 'AHU1_SaFanSpeedAO_value':\n",
      "('2024-07-01 00:00:00', 35.0)\n",
      "('2024-07-01 00:04:59', 35.0)\n",
      "('2024-07-01 00:05:00', 35.0)\n",
      "('2024-07-01 00:09:58', 35.0)\n",
      "('2024-07-01 00:10:00', 35.0)\n",
      "('2024-07-01 00:14:57', 35.0)\n",
      "('2024-07-01 00:15:00', 35.0)\n",
      "('2024-07-01 00:19:56', 35.0)\n",
      "('2024-07-01 00:20:00', 35.0)\n",
      "('2024-07-01 00:24:55', 35.0)\n"
     ]
    }
   ],
   "source": [
    "# Fetch all data for a specific sensor\n",
    "sensor_name = \"AHU1_SaFanSpeedAO_value\"\n",
    "query = f\"SELECT timestamp, value FROM TimeseriesData WHERE sensor_name = '{sensor_name}' ORDER BY timestamp LIMIT 10;\"\n",
    "results = conn.execute(query).fetchall()\n",
    "print(f\"Data for sensor '{sensor_name}':\")\n",
    "for row in results:\n",
    "    print(row)"
   ]
  },
  {
   "cell_type": "code",
   "execution_count": 7,
   "metadata": {},
   "outputs": [
    {
     "name": "stdout",
     "output_type": "stream",
     "text": [
      "Sample data for sensor 'AHU1_SaFanSpeedAO_value':\n",
      "('2024-07-01 00:00:00', 35.0)\n",
      "('2024-07-01 00:04:59', 35.0)\n",
      "('2024-07-01 00:05:00', 35.0)\n",
      "('2024-07-01 00:09:58', 35.0)\n",
      "('2024-07-01 00:10:00', 35.0)\n",
      "('2024-07-01 00:14:57', 35.0)\n",
      "('2024-07-01 00:15:00', 35.0)\n",
      "('2024-07-01 00:19:56', 35.0)\n",
      "('2024-07-01 00:20:00', 35.0)\n",
      "('2024-07-01 00:24:55', 35.0)\n",
      "\n",
      "--------------------------------------------------\n",
      "\n",
      "Timeseries references:\n",
      "Timeseries ID: AHU1_SaFanSpeedAO_value, Stored At: SQLite Timeseries Storage\n",
      "Timeseries ID: AHU1_SaStatic_value, Stored At: SQLite Timeseries Storage\n",
      "Timeseries ID: AHU1_Eff_StaticSPt, Stored At: SQLite Timeseries Storage\n",
      "Timeseries ID: AHU4_SaFanSpeedAO_value, Stored At: SQLite Timeseries Storage\n",
      "Timeseries ID: AHU4_SaStatic_value, Stored At: SQLite Timeseries Storage\n",
      "Timeseries ID: AHU4_StaticSPt, Stored At: SQLite Timeseries Storage\n",
      "Timeseries ID: AHU3_SaFanSpeedAO_value, Stored At: SQLite Timeseries Storage\n",
      "Timeseries ID: AHU3_SaStatic_value, Stored At: SQLite Timeseries Storage\n",
      "Timeseries ID: AHU3_StaticSPt, Stored At: SQLite Timeseries Storage\n",
      "Timeseries ID: AHU2_SaFanSpeedAO_value, Stored At: SQLite Timeseries Storage\n",
      "Timeseries ID: AHU2_SaStatic_value, Stored At: SQLite Timeseries Storage\n",
      "Timeseries ID: AHU2_StaticSPt, Stored At: SQLite Timeseries Storage\n",
      "\n",
      "--------------------------------------------------\n",
      "\n",
      "Database storage information:\n",
      "Label: SQLite Timeseries Storage, Connection String: sqlite:///brick_timeseries.db\n",
      "\n",
      "--------------------------------------------------\n",
      "\n",
      "\n",
      "The database design uses multiple tables to efficiently manage, retrieve, and scale time series data:\n",
      "\n",
      "1. **TimeseriesData Table**: Stores the actual sensor readings with timestamps.\n",
      "2. **TimeseriesReference Table**: Serves as a catalog, helping locate where each sensor's data is stored.\n",
      "3. **DatabaseStorage Table**: Stores information about where the data is actually kept (e.g., database location).\n",
      "\n",
      "This separation of concerns makes the system more modular and easier to maintain, allowing for scalability and efficient data retrieval.\n",
      "\n"
     ]
    }
   ],
   "source": [
    "# Step 1: Retrieve data from TimeseriesData Table\n",
    "sensor_name = \"AHU1_SaFanSpeedAO_value\"\n",
    "query_data = f\"\"\"\n",
    "SELECT timestamp, value \n",
    "FROM TimeseriesData \n",
    "WHERE sensor_name = '{sensor_name}' \n",
    "ORDER BY timestamp \n",
    "LIMIT 10;\n",
    "\"\"\"\n",
    "data_results = conn.execute(query_data).fetchall()\n",
    "print(f\"Sample data for sensor '{sensor_name}':\")\n",
    "for row in data_results:\n",
    "    print(row)\n",
    "\n",
    "print(\"\\n\" + \"-\" * 50 + \"\\n\")\n",
    "\n",
    "# Step 2: Retrieve references from TimeseriesReference Table\n",
    "query_references = \"\"\"\n",
    "SELECT timeseries_id, stored_at \n",
    "FROM TimeseriesReference;\n",
    "\"\"\"\n",
    "reference_results = conn.execute(query_references).fetchall()\n",
    "print(\"Timeseries references:\")\n",
    "for ref in reference_results:\n",
    "    print(f\"Timeseries ID: {ref[0]}, Stored At: {ref[1]}\")\n",
    "\n",
    "print(\"\\n\" + \"-\" * 50 + \"\\n\")\n",
    "\n",
    "# Step 3: Retrieve storage information from DatabaseStorage Table\n",
    "query_storage = \"\"\"\n",
    "SELECT label, connstring \n",
    "FROM DatabaseStorage;\n",
    "\"\"\"\n",
    "storage_results = conn.execute(query_storage).fetchall()\n",
    "print(\"Database storage information:\")\n",
    "for storage in storage_results:\n",
    "    print(f\"Label: {storage[0]}, Connection String: {storage[1]}\")\n",
    "\n",
    "print(\"\\n\" + \"-\" * 50 + \"\\n\")\n",
    "\n",
    "# Explanation of why multiple tables are used\n",
    "explanation = \"\"\"\n",
    "The database design uses multiple tables to efficiently manage, retrieve, and scale time series data:\n",
    "\n",
    "1. **TimeseriesData Table**: Stores the actual sensor readings with timestamps.\n",
    "2. **TimeseriesReference Table**: Serves as a catalog, helping locate where each sensor's data is stored.\n",
    "3. **DatabaseStorage Table**: Stores information about where the data is actually kept (e.g., database location).\n",
    "\n",
    "This separation of concerns makes the system more modular and easier to maintain, allowing for scalability and efficient data retrieval.\n",
    "\"\"\"\n",
    "print(explanation)\n",
    "\n",
    "# Close the database connection\n",
    "conn.close()"
   ]
  },
  {
   "cell_type": "markdown",
   "metadata": {},
   "source": [
    "Close the Database Connection"
   ]
  },
  {
   "cell_type": "code",
   "execution_count": 8,
   "metadata": {},
   "outputs": [],
   "source": [
    "# Close the connection to the database\n",
    "conn.close()"
   ]
  }
 ],
 "metadata": {
  "kernelspec": {
   "display_name": "Python 3",
   "language": "python",
   "name": "python3"
  },
  "language_info": {
   "codemirror_mode": {
    "name": "ipython",
    "version": 3
   },
   "file_extension": ".py",
   "mimetype": "text/x-python",
   "name": "python",
   "nbconvert_exporter": "python",
   "pygments_lexer": "ipython3",
   "version": "3.12.3"
  }
 },
 "nbformat": 4,
 "nbformat_minor": 2
}
