{
 "cells": [
  {
   "cell_type": "code",
   "execution_count": 1,
   "metadata": {},
   "outputs": [],
   "source": [
    "# Import necessary libraries\n",
    "import sqlite3\n",
    "import pandas as pd\n",
    "from rdflib import Graph, Namespace\n",
    "from open_fdd.air_handling_unit.faults import FaultConditionOne"
   ]
  },
  {
   "cell_type": "code",
   "execution_count": 2,
   "metadata": {},
   "outputs": [],
   "source": [
    "conn = sqlite3.connect(\"brick_timeseries.db\")"
   ]
  },
  {
   "cell_type": "code",
   "execution_count": 3,
   "metadata": {},
   "outputs": [],
   "source": [
    "# Configuration dictionary template\n",
    "PERCENTAGE_COLS_TO_CONVERT = [\n",
    "    \"Supply_Fan_VFD_Speed_Sensor\",  # BRICK formatted column name\n",
    "]"
   ]
  },
  {
   "cell_type": "code",
   "execution_count": 4,
   "metadata": {},
   "outputs": [],
   "source": [
    "config_dict_template = {\n",
    "    \"INDEX_COL_NAME\": \"timestamp\",\n",
    "    \"DUCT_STATIC_COL\": \"Supply_Air_Static_Pressure_Sensor\",\n",
    "    \"DUCT_STATIC_SETPOINT_COL\": \"Supply_Air_Static_Pressure_Setpoint\",\n",
    "    \"SUPPLY_VFD_SPEED_COL\": \"Supply_Fan_VFD_Speed_Sensor\",\n",
    "    \"VFD_SPEED_PERCENT_ERR_THRES\": 0.05,\n",
    "    \"VFD_SPEED_PERCENT_MAX\": 0.99,\n",
    "    \"DUCT_STATIC_INCHES_ERR_THRES\": 0.1,\n",
    "    \"TROUBLESHOOT_MODE\": False,\n",
    "    \"ROLLING_WINDOW_SIZE\": 10,\n",
    "}"
   ]
  },
  {
   "cell_type": "code",
   "execution_count": 5,
   "metadata": {},
   "outputs": [],
   "source": [
    "def run_sparql_query(graph):\n",
    "    print(\"Running SPARQL query...\")\n",
    "    query = \"\"\"\n",
    "    PREFIX brick: <https://brickschema.org/schema/Brick#>\n",
    "    PREFIX ref: <https://brickschema.org/schema/Reference#>\n",
    "\n",
    "    SELECT ?ahu ?sensorType ?sensor WHERE {\n",
    "        ?ahu brick:hasPoint ?sensor .\n",
    "        ?sensor a ?sensorType .\n",
    "        FILTER (?sensorType IN (brick:Supply_Air_Static_Pressure_Sensor, brick:Supply_Air_Static_Pressure_Setpoint, brick:Supply_Fan_VFD_Speed_Sensor))\n",
    "    }\n",
    "    \"\"\"\n",
    "    return graph.query(query)\n",
    "\n",
    "\n",
    "# Function to load RDF graph\n",
    "def load_rdf_graph(file_path):\n",
    "    print(\"Loading RDF graph...\")\n",
    "    g = Graph()\n",
    "    g.parse(file_path, format=\"turtle\")\n",
    "    return g\n",
    "\n",
    "\n",
    "# Function to convert analog output columns to floats\n",
    "def convert_floats(df, columns):\n",
    "    for column in columns:\n",
    "        df[column] = df[column] / 100.0\n",
    "    return df\n",
    "\n",
    "\n",
    "# Function to run fault condition one\n",
    "def run_fault_one(config_dict, df):\n",
    "    fc1 = FaultConditionOne(config_dict)\n",
    "    df = fc1.apply(df)\n",
    "    return df\n",
    "\n",
    "\n",
    "# Function to retrieve time series data\n",
    "def retrieve_timeseries_data(sensor_data, conn):\n",
    "    dfs = []\n",
    "    for ahu, sensors in sensor_data.items():\n",
    "        print(f\"Querying SQLite for AHU: {ahu}\")\n",
    "        df_ahu = None\n",
    "        for sensor_type, sensor_uri in sensors.items():\n",
    "            sensor_id = sensor_uri.split(\"/\")[-1]\n",
    "            print(f\"Querying SQLite for sensor: {sensor_id} of type: {sensor_type}\")\n",
    "            sql_query = \"\"\"\n",
    "            SELECT timestamp, value\n",
    "            FROM TimeseriesData\n",
    "            WHERE sensor_name = ?\n",
    "            \"\"\"\n",
    "            df_sensor = pd.read_sql_query(sql_query, conn, params=(sensor_id,))\n",
    "            if df_sensor.empty:\n",
    "                print(\n",
    "                    f\"No data found for sensor: {sensor_type} with sensor_id: {sensor_id}\"\n",
    "                )\n",
    "            else:\n",
    "                print(\n",
    "                    f\"Data found for sensor: {sensor_type}, number of records: {len(df_sensor)}\"\n",
    "                )\n",
    "                df_sensor = df_sensor.rename(columns={\"value\": sensor_type})\n",
    "                if df_ahu is None:\n",
    "                    df_ahu = df_sensor.set_index(\"timestamp\")\n",
    "                else:\n",
    "                    df_ahu = pd.merge(\n",
    "                        df_ahu,\n",
    "                        df_sensor.set_index(\"timestamp\"),\n",
    "                        left_index=True,\n",
    "                        right_index=True,\n",
    "                    )\n",
    "        if df_ahu is not None:\n",
    "            dfs.append((ahu, df_ahu))\n",
    "    return dfs"
   ]
  },
  {
   "cell_type": "code",
   "execution_count": 6,
   "metadata": {},
   "outputs": [
    {
     "name": "stdout",
     "output_type": "stream",
     "text": [
      "Loading RDF graph...\n"
     ]
    },
    {
     "data": {
      "text/plain": [
       "<Graph identifier=Ne07647bc95744620ba9d868622412882 (<class 'rdflib.graph.Graph'>)>"
      ]
     },
     "execution_count": 6,
     "metadata": {},
     "output_type": "execute_result"
    }
   ],
   "source": [
    "# Load the RDF graph\n",
    "rdf_graph = load_rdf_graph(\"brick_model_with_timeseries.ttl\")\n",
    "\n",
    "rdf_graph"
   ]
  },
  {
   "cell_type": "code",
   "execution_count": 7,
   "metadata": {},
   "outputs": [
    {
     "name": "stdout",
     "output_type": "stream",
     "text": [
      "Running SPARQL query...\n"
     ]
    },
    {
     "data": {
      "text/plain": [
       "<rdflib.plugins.sparql.processor.SPARQLResult at 0x207c06e8ec0>"
      ]
     },
     "execution_count": 7,
     "metadata": {},
     "output_type": "execute_result"
    }
   ],
   "source": [
    "# Run SPARQL query to get sensor data for each AHU\n",
    "sparql_results = run_sparql_query(rdf_graph)\n",
    "\n",
    "sparql_results"
   ]
  },
  {
   "cell_type": "code",
   "execution_count": 8,
   "metadata": {},
   "outputs": [
    {
     "name": "stdout",
     "output_type": "stream",
     "text": [
      "Found sensor for AHU1: Supply_Air_Static_Pressure_Setpoint -> http://example.org/AHU1_Eff_StaticSPt\n",
      "Found sensor for AHU1: Supply_Fan_VFD_Speed_Sensor -> http://example.org/AHU1_SaFanSpeedAO_value\n",
      "Found sensor for AHU1: Supply_Air_Static_Pressure_Sensor -> http://example.org/AHU1_SaStatic_value\n",
      "Found sensor for AHU2: Supply_Fan_VFD_Speed_Sensor -> http://example.org/AHU2_SaFanSpeedAO_value\n",
      "Found sensor for AHU2: Supply_Air_Static_Pressure_Sensor -> http://example.org/AHU2_SaStatic_value\n",
      "Found sensor for AHU2: Supply_Air_Static_Pressure_Setpoint -> http://example.org/AHU2_StaticSPt\n",
      "Found sensor for AHU3: Supply_Fan_VFD_Speed_Sensor -> http://example.org/AHU3_SaFanSpeedAO_value\n",
      "Found sensor for AHU3: Supply_Air_Static_Pressure_Sensor -> http://example.org/AHU3_SaStatic_value\n",
      "Found sensor for AHU3: Supply_Air_Static_Pressure_Setpoint -> http://example.org/AHU3_StaticSPt\n",
      "Found sensor for AHU4: Supply_Fan_VFD_Speed_Sensor -> http://example.org/AHU4_SaFanSpeedAO_value\n",
      "Found sensor for AHU4: Supply_Air_Static_Pressure_Sensor -> http://example.org/AHU4_SaStatic_value\n",
      "Found sensor for AHU4: Supply_Air_Static_Pressure_Setpoint -> http://example.org/AHU4_StaticSPt\n",
      "Querying SQLite for AHU: AHU1\n",
      "Querying SQLite for sensor: AHU1_Eff_StaticSPt of type: Supply_Air_Static_Pressure_Setpoint\n",
      "Data found for sensor: Supply_Air_Static_Pressure_Setpoint, number of records: 17788\n",
      "Querying SQLite for sensor: AHU1_SaFanSpeedAO_value of type: Supply_Fan_VFD_Speed_Sensor\n",
      "Data found for sensor: Supply_Fan_VFD_Speed_Sensor, number of records: 17788\n",
      "Querying SQLite for sensor: AHU1_SaStatic_value of type: Supply_Air_Static_Pressure_Sensor\n",
      "Data found for sensor: Supply_Air_Static_Pressure_Sensor, number of records: 17788\n",
      "Querying SQLite for AHU: AHU2\n",
      "Querying SQLite for sensor: AHU2_SaFanSpeedAO_value of type: Supply_Fan_VFD_Speed_Sensor\n",
      "Data found for sensor: Supply_Fan_VFD_Speed_Sensor, number of records: 17788\n",
      "Querying SQLite for sensor: AHU2_SaStatic_value of type: Supply_Air_Static_Pressure_Sensor\n",
      "Data found for sensor: Supply_Air_Static_Pressure_Sensor, number of records: 17788\n",
      "Querying SQLite for sensor: AHU2_StaticSPt of type: Supply_Air_Static_Pressure_Setpoint\n",
      "Data found for sensor: Supply_Air_Static_Pressure_Setpoint, number of records: 17788\n",
      "Querying SQLite for AHU: AHU3\n",
      "Querying SQLite for sensor: AHU3_SaFanSpeedAO_value of type: Supply_Fan_VFD_Speed_Sensor\n",
      "Data found for sensor: Supply_Fan_VFD_Speed_Sensor, number of records: 17788\n",
      "Querying SQLite for sensor: AHU3_SaStatic_value of type: Supply_Air_Static_Pressure_Sensor\n",
      "Data found for sensor: Supply_Air_Static_Pressure_Sensor, number of records: 17788\n",
      "Querying SQLite for sensor: AHU3_StaticSPt of type: Supply_Air_Static_Pressure_Setpoint\n",
      "Data found for sensor: Supply_Air_Static_Pressure_Setpoint, number of records: 17788\n",
      "Querying SQLite for AHU: AHU4\n",
      "Querying SQLite for sensor: AHU4_SaFanSpeedAO_value of type: Supply_Fan_VFD_Speed_Sensor\n",
      "Data found for sensor: Supply_Fan_VFD_Speed_Sensor, number of records: 17788\n",
      "Querying SQLite for sensor: AHU4_SaStatic_value of type: Supply_Air_Static_Pressure_Sensor\n",
      "Data found for sensor: Supply_Air_Static_Pressure_Sensor, number of records: 17788\n",
      "Querying SQLite for sensor: AHU4_StaticSPt of type: Supply_Air_Static_Pressure_Setpoint\n",
      "Data found for sensor: Supply_Air_Static_Pressure_Setpoint, number of records: 17788\n"
     ]
    }
   ],
   "source": [
    "# Extract sensor data from the SPARQL query result\n",
    "sensor_data = {}\n",
    "for row in sparql_results:\n",
    "    ahu = str(row.ahu).split(\"/\")[-1]\n",
    "    sensor_type = str(row.sensorType).split(\"#\")[-1]\n",
    "    sensor_data.setdefault(ahu, {})[sensor_type] = row.sensor\n",
    "    print(f\"Found sensor for {ahu}: {sensor_type} -> {row.sensor}\")\n",
    "\n",
    "# Retrieve time series data for each AHU\n",
    "ahu_dataframes = retrieve_timeseries_data(sensor_data, conn)"
   ]
  },
  {
   "cell_type": "code",
   "execution_count": 9,
   "metadata": {},
   "outputs": [
    {
     "name": "stdout",
     "output_type": "stream",
     "text": [
      "Processing data for AHU: AHU1\n",
      "Total faults detected for AHU1: 0\n",
      "Processing data for AHU: AHU2\n",
      "Total faults detected for AHU2: 0\n",
      "Processing data for AHU: AHU3\n",
      "Total faults detected for AHU3: 1792\n",
      "Processing data for AHU: AHU4\n",
      "Total faults detected for AHU4: 7828\n"
     ]
    }
   ],
   "source": [
    "ahu_dataframes_dict = {}\n",
    "\n",
    "# Loop through each AHU's DataFrame for processing\n",
    "for ahu, df_combined in ahu_dataframes:\n",
    "    print(f\"Processing data for AHU: {ahu}\")\n",
    "\n",
    "    # Convert analog outputs to floats\n",
    "    df_combined = convert_floats(df_combined, PERCENTAGE_COLS_TO_CONVERT)\n",
    "\n",
    "    # Customize the config_dict for each AHU if necessary\n",
    "    config_dict = config_dict_template.copy()\n",
    "\n",
    "    # Run the fault detection function\n",
    "    try:\n",
    "        df_combined = run_fault_one(config_dict, df_combined)\n",
    "        print(f\"Total faults detected for {ahu}: {df_combined['fc1_flag'].sum()}\")\n",
    "\n",
    "        # Store the DataFrame in a dictionary\n",
    "        ahu_dataframes_dict[ahu] = df_combined\n",
    "    except TypeError as e:\n",
    "        print(f\"Error processing AHU {ahu}: {e}\")"
   ]
  },
  {
   "cell_type": "code",
   "execution_count": 10,
   "metadata": {},
   "outputs": [
    {
     "name": "stdout",
     "output_type": "stream",
     "text": [
      "AHU: AHU1\n",
      "Total fc1_flags detected: 0\n",
      "----------------------------------------\n",
      "AHU: AHU2\n",
      "Total fc1_flags detected: 0\n",
      "----------------------------------------\n",
      "AHU: AHU3\n",
      "Total fc1_flags detected: 1792\n",
      "----------------------------------------\n",
      "AHU: AHU4\n",
      "Total fc1_flags detected: 7828\n",
      "----------------------------------------\n"
     ]
    }
   ],
   "source": [
    "# Loop through the dictionary to access each AHU's DataFrame\n",
    "for ahu_name, df in ahu_dataframes_dict.items():\n",
    "    # Print the AHU name\n",
    "    print(f\"AHU: {ahu_name}\")\n",
    "\n",
    "    # Print the total number of flags detected\n",
    "    total_flags = df[\"fc1_flag\"].sum()\n",
    "    print(f\"Total fc1_flags detected: {total_flags}\")\n",
    "\n",
    "    # Print a small sample of the DataFrame (e.g., first 5 rows)\n",
    "    # print(\"Data sample:\")\n",
    "    # print(df.head())  # You can adjust the number of rows with df.head(n)\n",
    "\n",
    "    # Optionally, print a line separator for readability\n",
    "    print(\"-\" * 40)"
   ]
  },
  {
   "cell_type": "code",
   "execution_count": 11,
   "metadata": {},
   "outputs": [],
   "source": [
    "conn.close()"
   ]
  }
 ],
 "metadata": {
  "kernelspec": {
   "display_name": "Python 3",
   "language": "python",
   "name": "python3"
  },
  "language_info": {
   "codemirror_mode": {
    "name": "ipython",
    "version": 3
   },
   "file_extension": ".py",
   "mimetype": "text/x-python",
   "name": "python",
   "nbconvert_exporter": "python",
   "pygments_lexer": "ipython3",
   "version": "3.12.3"
  }
 },
 "nbformat": 4,
 "nbformat_minor": 2
}
